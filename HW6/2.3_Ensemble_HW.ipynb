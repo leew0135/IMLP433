{
 "cells": [
  {
   "cell_type": "markdown",
   "id": "3129ab3d",
   "metadata": {},
   "source": [
    "# Ensemble/Voting Classification in Python with Scikit-Learn\n",
    "ref：https://www.kaggle.com/c/titanic/submit"
   ]
  },
  {
   "cell_type": "code",
   "execution_count": 1,
   "id": "c6b020b8",
   "metadata": {},
   "outputs": [],
   "source": [
    "import pandas as pd\n",
    "import numpy as np\n",
    "import warnings\n",
    "\n",
    "from sklearn.preprocessing import LabelEncoder, StandardScaler\n",
    "from sklearn.metrics import accuracy_score, f1_score, log_loss\n",
    "from sklearn.model_selection import train_test_split, KFold, cross_val_score\n",
    "\n",
    "from sklearn.svm import SVC\n",
    "from sklearn.linear_model import LogisticRegression\n",
    "from sklearn.tree import DecisionTreeClassifier\n",
    "from sklearn.ensemble import VotingClassifier\n",
    "from sklearn.ensemble import BaggingClassifier\n",
    "from sklearn.ensemble import AdaBoostClassifier, RandomForestClassifier, ExtraTreesClassifier"
   ]
  },
  {
   "cell_type": "code",
   "execution_count": 2,
   "id": "7163b994",
   "metadata": {
    "scrolled": true
   },
   "outputs": [
    {
     "name": "stdout",
     "output_type": "stream",
     "text": [
      "Training Data:\n",
      "PassengerId      0\n",
      "Survived         0\n",
      "Pclass           0\n",
      "Name             0\n",
      "Sex              0\n",
      "Age            177\n",
      "SibSp            0\n",
      "Parch            0\n",
      "Ticket           0\n",
      "Fare             0\n",
      "Cabin          687\n",
      "Embarked         2\n",
      "dtype: int64\n",
      "Testing Data:\n",
      "PassengerId      0\n",
      "Pclass           0\n",
      "Name             0\n",
      "Sex              0\n",
      "Age             86\n",
      "SibSp            0\n",
      "Parch            0\n",
      "Ticket           0\n",
      "Fare             1\n",
      "Cabin          327\n",
      "Embarked         0\n",
      "dtype: int64\n"
     ]
    }
   ],
   "source": [
    "training_data = pd.read_csv(\"data/train.csv\")\n",
    "testing_data = pd.read_csv(\"data/test.csv\")\n",
    "\n",
    "def get_nulls(training, testing):\n",
    "    print(\"Training Data:\")\n",
    "    print(pd.isnull(training).sum())\n",
    "    print(\"Testing Data:\")\n",
    "    print(pd.isnull(testing).sum())\n",
    "\n",
    "get_nulls(training_data, testing_data)"
   ]
  },
  {
   "cell_type": "code",
   "execution_count": 3,
   "id": "ffd6109f",
   "metadata": {},
   "outputs": [],
   "source": [
    "# Drop the cabin column, as there are too many missing values\n",
    "# Drop the ticket numbers too, as there are too many categories\n",
    "# Drop names as they won't really help predict survivors\n",
    "training_data.drop(labels=['Cabin','Ticket','Name'], axis=1, inplace=True)\n",
    "testing_data.drop(labels=['Cabin','Ticket','Name'], axis=1, inplace=True)\n",
    "\n"
   ]
  },
  {
   "cell_type": "code",
   "execution_count": 4,
   "id": "d9b99f41",
   "metadata": {},
   "outputs": [
    {
     "name": "stdout",
     "output_type": "stream",
     "text": [
      "Training Data:\n",
      "PassengerId    0\n",
      "Survived       0\n",
      "Pclass         0\n",
      "Sex            0\n",
      "Age            0\n",
      "SibSp          0\n",
      "Parch          0\n",
      "Fare           0\n",
      "Embarked       0\n",
      "dtype: int64\n",
      "Testing Data:\n",
      "PassengerId    0\n",
      "Pclass         0\n",
      "Sex            0\n",
      "Age            0\n",
      "SibSp          0\n",
      "Parch          0\n",
      "Fare           0\n",
      "Embarked       0\n",
      "dtype: int64\n"
     ]
    },
    {
     "name": "stderr",
     "output_type": "stream",
     "text": [
      "C:\\Users\\User\\AppData\\Local\\Temp\\ipykernel_8868\\1154524879.py:3: FutureWarning: A value is trying to be set on a copy of a DataFrame or Series through chained assignment using an inplace method.\n",
      "The behavior will change in pandas 3.0. This inplace method will never work because the intermediate object on which we are setting values always behaves as a copy.\n",
      "\n",
      "For example, when doing 'df[col].method(value, inplace=True)', try using 'df.method({col: value}, inplace=True)' or df[col] = df[col].method(value) instead, to perform the operation inplace on the original object.\n",
      "\n",
      "\n",
      "  training_data[\"Age\"].fillna(training_data[\"Age\"].median(),inplace=True)\n",
      "C:\\Users\\User\\AppData\\Local\\Temp\\ipykernel_8868\\1154524879.py:4: FutureWarning: A value is trying to be set on a copy of a DataFrame or Series through chained assignment using an inplace method.\n",
      "The behavior will change in pandas 3.0. This inplace method will never work because the intermediate object on which we are setting values always behaves as a copy.\n",
      "\n",
      "For example, when doing 'df[col].method(value, inplace=True)', try using 'df.method({col: value}, inplace=True)' or df[col] = df[col].method(value) instead, to perform the operation inplace on the original object.\n",
      "\n",
      "\n",
      "  testing_data[\"Age\"].fillna(testing_data[\"Age\"].median(),inplace=True)\n",
      "C:\\Users\\User\\AppData\\Local\\Temp\\ipykernel_8868\\1154524879.py:6: FutureWarning: A value is trying to be set on a copy of a DataFrame or Series through chained assignment using an inplace method.\n",
      "The behavior will change in pandas 3.0. This inplace method will never work because the intermediate object on which we are setting values always behaves as a copy.\n",
      "\n",
      "For example, when doing 'df[col].method(value, inplace=True)', try using 'df.method({col: value}, inplace=True)' or df[col] = df[col].method(value) instead, to perform the operation inplace on the original object.\n",
      "\n",
      "\n",
      "  training_data[\"Embarked\"].fillna(\"S\",inplace=True)\n",
      "C:\\Users\\User\\AppData\\Local\\Temp\\ipykernel_8868\\1154524879.py:7: FutureWarning: A value is trying to be set on a copy of a DataFrame or Series through chained assignment using an inplace method.\n",
      "The behavior will change in pandas 3.0. This inplace method will never work because the intermediate object on which we are setting values always behaves as a copy.\n",
      "\n",
      "For example, when doing 'df[col].method(value, inplace=True)', try using 'df.method({col: value}, inplace=True)' or df[col] = df[col].method(value) instead, to perform the operation inplace on the original object.\n",
      "\n",
      "\n",
      "  testing_data[\"Fare\"].fillna(testing_data[\"Fare\"].median(),inplace=True)\n"
     ]
    }
   ],
   "source": [
    "# Taking the mean/average value would be impacted by the skew\n",
    "# so we should use the median value to impute missing values\n",
    "training_data[\"Age\"].fillna(training_data[\"Age\"].median(),inplace=True)\n",
    "testing_data[\"Age\"].fillna(testing_data[\"Age\"].median(),inplace=True)\n",
    "\n",
    "training_data[\"Embarked\"].fillna(\"S\",inplace=True)\n",
    "testing_data[\"Fare\"].fillna(testing_data[\"Fare\"].median(),inplace=True)\n",
    "\n",
    "get_nulls(training_data, testing_data)"
   ]
  },
  {
   "cell_type": "code",
   "execution_count": 5,
   "id": "19e4f59b",
   "metadata": {},
   "outputs": [],
   "source": [
    "# Fit the encoder on the data (Feature: Sex)\n",
    "encoder_1 = LabelEncoder()\n",
    "encoder_1.fit(training_data[\"Sex\"])\n",
    "\n",
    "# Transform and replace training data\n",
    "training_sex_encoded = encoder_1.transform(training_data[\"Sex\"])\n",
    "training_data[\"Sex\"] = training_sex_encoded\n",
    "test_sex_encoded = encoder_1.transform(testing_data[\"Sex\"])\n",
    "testing_data[\"Sex\"] = test_sex_encoded\n",
    "\n",
    "# Fit the encoder on the data (Feature: Embarked)\n",
    "encoder_2 = LabelEncoder()\n",
    "encoder_2.fit(training_data[\"Embarked\"])\n",
    "\n",
    "# Transform and replace training data\n",
    "training_embarked_encoded = encoder_2.transform(training_data[\"Embarked\"])\n",
    "training_data[\"Embarked\"] = training_embarked_encoded\n",
    "test_embarked_encoded = encoder_2.transform(testing_data[\"Embarked\"])\n",
    "testing_data[\"Embarked\"] = test_embarked_encoded\n",
    "\n",
    "# Any value we want to reshape needs be turned into array first\n",
    "ages_train = np.array(training_data[\"Age\"]).reshape(-1, 1)\n",
    "fares_train = np.array(training_data[\"Fare\"]).reshape(-1, 1)\n",
    "ages_test = np.array(testing_data[\"Age\"]).reshape(-1, 1)\n",
    "fares_test = np.array(testing_data[\"Fare\"]).reshape(-1, 1)\n",
    "\n",
    "# Scaler takes arrays\n",
    "scaler = StandardScaler()\n",
    "\n",
    "training_data[\"Age\"] = scaler.fit_transform(ages_train)\n",
    "training_data[\"Fare\"] = scaler.fit_transform(fares_train)\n",
    "testing_data[\"Age\"] = scaler.fit_transform(ages_test)\n",
    "testing_data[\"Fare\"] = scaler.fit_transform(fares_test)"
   ]
  },
  {
   "cell_type": "code",
   "execution_count": 6,
   "id": "65bd0090",
   "metadata": {},
   "outputs": [
    {
     "name": "stdout",
     "output_type": "stream",
     "text": [
      "   Pclass  Sex       Age  SibSp  Parch      Fare  Embarked\n",
      "0       3    1 -0.565736      1      0 -0.502445         2\n",
      "1       1    0  0.663861      1      0  0.786845         0\n",
      "2       3    0 -0.258337      0      0 -0.488854         2\n",
      "3       1    0  0.433312      1      0  0.420730         2\n",
      "4       3    1  0.433312      0      0 -0.486337         2\n",
      "0    0\n",
      "1    1\n",
      "2    1\n",
      "3    1\n",
      "4    0\n",
      "Name: Survived, dtype: int64\n"
     ]
    }
   ],
   "source": [
    "# Now to select our training/testing data\n",
    "X_features = training_data.drop(labels=['PassengerId', 'Survived'], axis=1)\n",
    "y_labels = training_data['Survived']\n",
    "\n",
    "print(X_features.head(5))\n",
    "print(y_labels.head(5))\n",
    "\n",
    "# Make the train/test data from validation\n",
    "\n",
    "X_train, X_val, y_train, y_val = train_test_split(X_features, y_labels, test_size=0.1,random_state=12)"
   ]
  },
  {
   "cell_type": "markdown",
   "id": "5652bc34",
   "metadata": {},
   "source": [
    "## Simple Averaging Approach"
   ]
  },
  {
   "cell_type": "code",
   "execution_count": 7,
   "id": "9cd452cc",
   "metadata": {},
   "outputs": [
    {
     "name": "stdout",
     "output_type": "stream",
     "text": [
      "0.8\n"
     ]
    }
   ],
   "source": [
    "LogReg_clf = LogisticRegression()\n",
    "DTree_clf = DecisionTreeClassifier()\n",
    "SVC_clf = SVC()\n",
    "\n",
    "LogReg_clf.fit(X_train, y_train)\n",
    "DTree_clf.fit(X_train, y_train)\n",
    "SVC_clf.fit(X_train, y_train)\n",
    "\n",
    "LogReg_pred = LogReg_clf.predict(X_val)\n",
    "DTree_pred = DTree_clf.predict(X_val)\n",
    "SVC_pred = SVC_clf.predict(X_val)\n",
    "\n",
    "averaged_preds = (LogReg_pred + DTree_pred + SVC_pred)//3\n",
    "acc = accuracy_score(y_val, averaged_preds)\n",
    "print(acc)"
   ]
  },
  {
   "cell_type": "markdown",
   "id": "82d32100",
   "metadata": {},
   "source": [
    "## Bagging Classification Example"
   ]
  },
  {
   "cell_type": "code",
   "execution_count": 13,
   "id": "62ac47a5",
   "metadata": {},
   "outputs": [
    {
     "name": "stdout",
     "output_type": "stream",
     "text": [
      "0.7927134146341464\n",
      "0.8188719512195123\n",
      "0.8113719512195123\n",
      "0.7963719512195122\n"
     ]
    }
   ],
   "source": [
    "#logreg_bagging_model = BaggingClassifier(base_estimator=LogReg_clf, n_estimators=50, random_state=12)\n",
    "#dtree_bagging_model = BaggingClassifier(base_estimator=DTree_clf, n_estimators=50, random_state=12)\n",
    "#random_forest = RandomForestClassifier( n_estimators=100, random_state=12)\n",
    "#extra_trees = ExtraTreesClassifier(n_estimators=100,random_state=12)\n",
    "\n",
    "logreg_bagging_model = BaggingClassifier(estimator=LogReg_clf, n_estimators=50, random_state=12)\n",
    "dtree_bagging_model = BaggingClassifier(estimator=DTree_clf, n_estimators=50, random_state=12)\n",
    "random_forest = RandomForestClassifier( n_estimators=100, random_state=12)\n",
    "extra_trees = ExtraTreesClassifier(n_estimators=100,random_state=12)\n",
    "\n",
    "\n",
    "def bagging_ensemble(model):\n",
    "    k_folds = KFold(n_splits=20, random_state=12,shuffle=True)\n",
    "    results = cross_val_score(model, X_train, y_train, cv=k_folds)\n",
    "    print(results.mean())\n",
    "\n",
    "bagging_ensemble(logreg_bagging_model)\n",
    "bagging_ensemble(dtree_bagging_model)\n",
    "bagging_ensemble(random_forest)\n",
    "bagging_ensemble(extra_trees)\n"
   ]
  },
  {
   "cell_type": "markdown",
   "id": "09094ea7",
   "metadata": {},
   "source": [
    "## Boosting Classification Example"
   ]
  },
  {
   "cell_type": "code",
   "execution_count": 16,
   "id": "0a6d48bb",
   "metadata": {},
   "outputs": [
    {
     "name": "stdout",
     "output_type": "stream",
     "text": [
      "Results for 20 estimators:\n",
      "0.8064634146341463\n",
      "Results for 40 estimators:\n",
      "0.8089024390243903\n",
      "Results for 60 estimators:\n",
      "0.8051829268292684\n",
      "Results for 80 estimators:\n",
      "0.8039329268292683\n",
      "Results for 100 estimators:\n",
      "0.8051829268292684\n"
     ]
    }
   ],
   "source": [
    "k_folds = KFold(n_splits=20, random_state=12,shuffle=True)\n",
    "num_estimators = [20, 40, 60, 80, 100]\n",
    "\n",
    "for i in num_estimators:\n",
    "    ada_boost = AdaBoostClassifier(n_estimators=i, random_state=12, algorithm=\"SAMME\")\n",
    "    results = cross_val_score(ada_boost, X_train, y_train, cv=k_folds)\n",
    "    print(\"Results for {} estimators:\".format(i))\n",
    "    print(results.mean())"
   ]
  },
  {
   "cell_type": "markdown",
   "id": "8290c946",
   "metadata": {},
   "source": [
    "## voting\\Stacking Classification Example"
   ]
  },
  {
   "cell_type": "code",
   "execution_count": 17,
   "id": "161a4960",
   "metadata": {},
   "outputs": [
    {
     "name": "stdout",
     "output_type": "stream",
     "text": [
      "Accuracy is: 0.8333333333333334\n",
      "Log Loss is: 6.0072755648528595\n",
      "F1 Score is: 0.7761194029850746\n"
     ]
    }
   ],
   "source": [
    "voting_clf = VotingClassifier(estimators=[('SVC', SVC_clf), ('DTree', DTree_clf), ('LogReg', LogReg_clf)], voting='hard')\n",
    "voting_clf.fit(X_train, y_train)\n",
    "preds = voting_clf.predict(X_val)\n",
    "acc = accuracy_score(y_val, preds)\n",
    "l_loss = log_loss(y_val, preds)\n",
    "f1 = f1_score(y_val, preds)\n",
    "\n",
    "print(\"Accuracy is: \" + str(acc))\n",
    "print(\"Log Loss is: \" + str(l_loss))\n",
    "print(\"F1 Score is: \" + str(f1))"
   ]
  },
  {
   "cell_type": "code",
   "execution_count": 18,
   "id": "aedc530e",
   "metadata": {},
   "outputs": [
    {
     "data": {
      "application/vnd.microsoft.datawrangler.viewer.v0+json": {
       "columns": [
        {
         "name": "index",
         "rawType": "int64",
         "type": "integer"
        },
        {
         "name": "Pclass",
         "rawType": "int64",
         "type": "integer"
        },
        {
         "name": "Sex",
         "rawType": "int32",
         "type": "integer"
        },
        {
         "name": "Age",
         "rawType": "float64",
         "type": "float"
        },
        {
         "name": "SibSp",
         "rawType": "int64",
         "type": "integer"
        },
        {
         "name": "Parch",
         "rawType": "int64",
         "type": "integer"
        },
        {
         "name": "Fare",
         "rawType": "float64",
         "type": "float"
        },
        {
         "name": "Embarked",
         "rawType": "int32",
         "type": "integer"
        }
       ],
       "conversionMethod": "pd.DataFrame",
       "ref": "d5ff822a-7c67-4e81-a641-86dd002e3cfe",
       "rows": [
        [
         "715",
         "3",
         "1",
         "-0.7962859910387481",
         "0",
         "0",
         "-0.494391296561559",
         "2"
        ],
        [
         "319",
         "1",
         "0",
         "0.8175607187083667",
         "1",
         "1",
         "2.059693773056521",
         "0"
        ],
        [
         "829",
         "1",
         "0",
         "2.5082572717767726",
         "0",
         "0",
         "0.962353321387736",
         "2"
        ],
        [
         "79",
         "3",
         "0",
         "0.04906228549545483",
         "0",
         "0",
         "-0.397241430886295",
         "2"
        ],
        [
         "484",
         "1",
         "1",
         "-0.33518693111100106",
         "1",
         "0",
         "1.1854295476653287",
         "0"
        ],
        [
         "116",
         "3",
         "1",
         "3.1614809400077477",
         "0",
         "0",
         "-0.49237782784290063",
         "1"
        ],
        [
         "177",
         "1",
         "0",
         "1.5860591519212783",
         "0",
         "0",
         "-0.07030444769415023",
         "0"
        ],
        [
         "10",
         "3",
         "0",
         "-1.949033640858116",
         "1",
         "1",
         "-0.312172377522981",
         "2"
        ],
        [
         "862",
         "1",
         "0",
         "1.432359465278696",
         "0",
         "0",
         "-0.1263453225405672",
         "2"
        ],
        [
         "374",
         "3",
         "0",
         "-2.025883484179407",
         "3",
         "1",
         "-0.22408312108167944",
         "2"
        ],
        [
         "78",
         "2",
         "1",
         "-2.192647644186609",
         "0",
         "2",
         "-0.06451572512800753",
         "2"
        ],
        [
         "476",
         "2",
         "1",
         "0.35646165878061953",
         "1",
         "0",
         "-0.22559322262067316",
         "2"
        ],
        [
         "142",
         "3",
         "0",
         "-0.41203677443229225",
         "1",
         "0",
         "-0.32928686163157667",
         "2"
        ],
        [
         "349",
         "3",
         "1",
         "0.9712604053509489",
         "0",
         "0",
         "-0.47400492578514347",
         "2"
        ],
        [
         "63",
         "3",
         "1",
         "-1.949033640858116",
         "3",
         "2",
         "-0.08666388103324908",
         "2"
        ],
        [
         "569",
         "3",
         "1",
         "0.20276197213803718",
         "0",
         "0",
         "-0.4902797934380587",
         "2"
        ],
        [
         "403",
         "3",
         "1",
         "-0.10463740114712752",
         "1",
         "0",
         "-0.32928686163157667",
         "2"
        ],
        [
         "37",
         "3",
         "1",
         "-0.6425863043961658",
         "0",
         "0",
         "-0.4863374216869257",
         "2"
        ],
        [
         "315",
         "3",
         "0",
         "-0.2583370877897099",
         "0",
         "0",
         "-0.4902797934380587",
         "2"
        ],
        [
         "506",
         "2",
         "0",
         "0.27961181545932834",
         "0",
         "2",
         "-0.12491978668775715",
         "2"
        ],
        [
         "523",
         "1",
         "0",
         "1.1249600919935314",
         "0",
         "1",
         "0.5189714017894245",
         "0"
        ],
        [
         "251",
         "3",
         "0",
         "-0.027787557825836348",
         "1",
         "1",
         "-0.43776248884929375",
         "2"
        ],
        [
         "362",
         "3",
         "0",
         "1.2018099353148226",
         "0",
         "1",
         "-0.3573908580066095",
         "0"
        ],
        [
         "431",
         "3",
         "0",
         "-0.10463740114712752",
         "1",
         "0",
         "-0.32425318983493084",
         "2"
        ],
        [
         "381",
         "3",
         "0",
         "-2.1795831708219895",
         "0",
         "2",
         "-0.33146744825388363",
         "0"
        ],
        [
         "151",
         "1",
         "0",
         "-0.5657364610748746",
         "1",
         "0",
         "0.6925485130875209",
         "2"
        ],
        [
         "608",
         "2",
         "0",
         "-0.5657364610748746",
         "1",
         "2",
         "0.18876253192945994",
         "0"
        ],
        [
         "228",
         "2",
         "1",
         "-0.8731358343600393",
         "0",
         "0",
         "-0.3866707201133388",
         "2"
        ],
        [
         "340",
         "2",
         "1",
         "-2.1027333275006983",
         "1",
         "1",
         "-0.12491978668775715",
         "2"
        ],
        [
         "631",
         "3",
         "1",
         "1.6629089952425695",
         "0",
         "0",
         "-0.5063875431873253",
         "2"
        ],
        [
         "698",
         "1",
         "1",
         "1.5092093085999871",
         "1",
         "1",
         "1.5841789061771412",
         "0"
        ],
        [
         "231",
         "3",
         "1",
         "-0.027787557825836348",
         "0",
         "0",
         "-0.4918744606632361",
         "2"
        ],
        [
         "50",
         "3",
         "1",
         "-1.7184841108942424",
         "4",
         "1",
         "0.1506737441786005",
         "2"
        ],
        [
         "421",
         "3",
         "1",
         "-0.6425863043961658",
         "0",
         "0",
         "-0.49271407711891657",
         "1"
        ],
        [
         "358",
         "3",
         "0",
         "-0.10463740114712752",
         "0",
         "0",
         "-0.48977642625839407",
         "1"
        ],
        [
         "838",
         "3",
         "1",
         "0.20276197213803718",
         "0",
         "0",
         "0.48910360681684706",
         "2"
        ],
        [
         "23",
         "1",
         "1",
         "-0.10463740114712752",
         "0",
         "0",
         "0.06635974158478332",
         "2"
        ],
        [
         "56",
         "2",
         "0",
         "-0.6425863043961658",
         "0",
         "0",
         "-0.43700743807979686",
         "2"
        ],
        [
         "518",
         "2",
         "0",
         "0.5101613454232019",
         "1",
         "0",
         "-0.12491978668775715",
         "2"
        ],
        [
         "717",
         "2",
         "0",
         "-0.1814872444684187",
         "0",
         "0",
         "-0.43700743807979686",
         "2"
        ],
        [
         "301",
         "3",
         "1",
         "-0.10463740114712752",
         "2",
         "0",
         "-0.18029017645086096",
         "1"
        ],
        [
         "888",
         "3",
         "0",
         "-0.10463740114712752",
         "1",
         "2",
         "-0.17626323901354432",
         "2"
        ],
        [
         "487",
         "1",
         "1",
         "2.200857898491608",
         "0",
         "0",
         "-0.05042144409739929",
         "0"
        ],
        [
         "797",
         "3",
         "0",
         "0.12591212881674602",
         "0",
         "0",
         "-0.4735861242916626",
         "2"
        ],
        [
         "201",
         "3",
         "1",
         "-0.10463740114712752",
         "8",
         "2",
         "0.7519458402879414",
         "2"
        ],
        [
         "11",
         "1",
         "0",
         "2.200857898491608",
         "0",
         "0",
         "-0.11384570873513637",
         "2"
        ],
        [
         "263",
         "1",
         "1",
         "0.8175607187083667",
         "0",
         "0",
         "-0.6484216535389205",
         "2"
        ],
        [
         "186",
         "3",
         "0",
         "-0.10463740114712752",
         "1",
         "0",
         "-0.3363340021468808",
         "1"
        ],
        [
         "172",
         "3",
         "0",
         "-2.1795831708219895",
         "1",
         "1",
         "-0.4242561406845337",
         "2"
        ],
        [
         "444",
         "3",
         "1",
         "-0.10463740114712752",
         "0",
         "0",
         "-0.48507900373776425",
         "2"
        ]
       ],
       "shape": {
        "columns": 7,
        "rows": 801
       }
      },
      "text/html": [
       "<div>\n",
       "<style scoped>\n",
       "    .dataframe tbody tr th:only-of-type {\n",
       "        vertical-align: middle;\n",
       "    }\n",
       "\n",
       "    .dataframe tbody tr th {\n",
       "        vertical-align: top;\n",
       "    }\n",
       "\n",
       "    .dataframe thead th {\n",
       "        text-align: right;\n",
       "    }\n",
       "</style>\n",
       "<table border=\"1\" class=\"dataframe\">\n",
       "  <thead>\n",
       "    <tr style=\"text-align: right;\">\n",
       "      <th></th>\n",
       "      <th>Pclass</th>\n",
       "      <th>Sex</th>\n",
       "      <th>Age</th>\n",
       "      <th>SibSp</th>\n",
       "      <th>Parch</th>\n",
       "      <th>Fare</th>\n",
       "      <th>Embarked</th>\n",
       "    </tr>\n",
       "  </thead>\n",
       "  <tbody>\n",
       "    <tr>\n",
       "      <th>715</th>\n",
       "      <td>3</td>\n",
       "      <td>1</td>\n",
       "      <td>-0.796286</td>\n",
       "      <td>0</td>\n",
       "      <td>0</td>\n",
       "      <td>-0.494391</td>\n",
       "      <td>2</td>\n",
       "    </tr>\n",
       "    <tr>\n",
       "      <th>319</th>\n",
       "      <td>1</td>\n",
       "      <td>0</td>\n",
       "      <td>0.817561</td>\n",
       "      <td>1</td>\n",
       "      <td>1</td>\n",
       "      <td>2.059694</td>\n",
       "      <td>0</td>\n",
       "    </tr>\n",
       "    <tr>\n",
       "      <th>829</th>\n",
       "      <td>1</td>\n",
       "      <td>0</td>\n",
       "      <td>2.508257</td>\n",
       "      <td>0</td>\n",
       "      <td>0</td>\n",
       "      <td>0.962353</td>\n",
       "      <td>2</td>\n",
       "    </tr>\n",
       "    <tr>\n",
       "      <th>79</th>\n",
       "      <td>3</td>\n",
       "      <td>0</td>\n",
       "      <td>0.049062</td>\n",
       "      <td>0</td>\n",
       "      <td>0</td>\n",
       "      <td>-0.397241</td>\n",
       "      <td>2</td>\n",
       "    </tr>\n",
       "    <tr>\n",
       "      <th>484</th>\n",
       "      <td>1</td>\n",
       "      <td>1</td>\n",
       "      <td>-0.335187</td>\n",
       "      <td>1</td>\n",
       "      <td>0</td>\n",
       "      <td>1.185430</td>\n",
       "      <td>0</td>\n",
       "    </tr>\n",
       "    <tr>\n",
       "      <th>...</th>\n",
       "      <td>...</td>\n",
       "      <td>...</td>\n",
       "      <td>...</td>\n",
       "      <td>...</td>\n",
       "      <td>...</td>\n",
       "      <td>...</td>\n",
       "      <td>...</td>\n",
       "    </tr>\n",
       "    <tr>\n",
       "      <th>241</th>\n",
       "      <td>3</td>\n",
       "      <td>0</td>\n",
       "      <td>-0.104637</td>\n",
       "      <td>1</td>\n",
       "      <td>0</td>\n",
       "      <td>-0.336334</td>\n",
       "      <td>1</td>\n",
       "    </tr>\n",
       "    <tr>\n",
       "      <th>253</th>\n",
       "      <td>3</td>\n",
       "      <td>1</td>\n",
       "      <td>0.049062</td>\n",
       "      <td>1</td>\n",
       "      <td>0</td>\n",
       "      <td>-0.324253</td>\n",
       "      <td>2</td>\n",
       "    </tr>\n",
       "    <tr>\n",
       "      <th>390</th>\n",
       "      <td>1</td>\n",
       "      <td>1</td>\n",
       "      <td>0.510161</td>\n",
       "      <td>1</td>\n",
       "      <td>2</td>\n",
       "      <td>1.767741</td>\n",
       "      <td>2</td>\n",
       "    </tr>\n",
       "    <tr>\n",
       "      <th>667</th>\n",
       "      <td>3</td>\n",
       "      <td>1</td>\n",
       "      <td>-0.104637</td>\n",
       "      <td>0</td>\n",
       "      <td>0</td>\n",
       "      <td>-0.491874</td>\n",
       "      <td>2</td>\n",
       "    </tr>\n",
       "    <tr>\n",
       "      <th>843</th>\n",
       "      <td>3</td>\n",
       "      <td>1</td>\n",
       "      <td>0.394887</td>\n",
       "      <td>0</td>\n",
       "      <td>0</td>\n",
       "      <td>-0.518805</td>\n",
       "      <td>0</td>\n",
       "    </tr>\n",
       "  </tbody>\n",
       "</table>\n",
       "<p>801 rows × 7 columns</p>\n",
       "</div>"
      ],
      "text/plain": [
       "     Pclass  Sex       Age  SibSp  Parch      Fare  Embarked\n",
       "715       3    1 -0.796286      0      0 -0.494391         2\n",
       "319       1    0  0.817561      1      1  2.059694         0\n",
       "829       1    0  2.508257      0      0  0.962353         2\n",
       "79        3    0  0.049062      0      0 -0.397241         2\n",
       "484       1    1 -0.335187      1      0  1.185430         0\n",
       "..      ...  ...       ...    ...    ...       ...       ...\n",
       "241       3    0 -0.104637      1      0 -0.336334         1\n",
       "253       3    1  0.049062      1      0 -0.324253         2\n",
       "390       1    1  0.510161      1      2  1.767741         2\n",
       "667       3    1 -0.104637      0      0 -0.491874         2\n",
       "843       3    1  0.394887      0      0 -0.518805         0\n",
       "\n",
       "[801 rows x 7 columns]"
      ]
     },
     "execution_count": 18,
     "metadata": {},
     "output_type": "execute_result"
    }
   ],
   "source": [
    "X_train"
   ]
  },
  {
   "cell_type": "code",
   "execution_count": 19,
   "id": "abf32955",
   "metadata": {},
   "outputs": [
    {
     "data": {
      "application/vnd.microsoft.datawrangler.viewer.v0+json": {
       "columns": [
        {
         "name": "index",
         "rawType": "int64",
         "type": "integer"
        },
        {
         "name": "PassengerId",
         "rawType": "int64",
         "type": "integer"
        },
        {
         "name": "Pclass",
         "rawType": "int64",
         "type": "integer"
        },
        {
         "name": "Sex",
         "rawType": "int32",
         "type": "integer"
        },
        {
         "name": "Age",
         "rawType": "float64",
         "type": "float"
        },
        {
         "name": "SibSp",
         "rawType": "int64",
         "type": "integer"
        },
        {
         "name": "Parch",
         "rawType": "int64",
         "type": "integer"
        },
        {
         "name": "Fare",
         "rawType": "float64",
         "type": "float"
        },
        {
         "name": "Embarked",
         "rawType": "int32",
         "type": "integer"
        }
       ],
       "conversionMethod": "pd.DataFrame",
       "ref": "d5c086b7-3553-4c72-84ac-c457b89c7ecc",
       "rows": [
        [
         "0",
         "892",
         "3",
         "1",
         "0.38623104829163113",
         "0",
         "0",
         "-0.49741333194918286",
         "1"
        ],
        [
         "1",
         "893",
         "3",
         "0",
         "1.3713700413713346",
         "1",
         "0",
         "-0.5122780073786185",
         "2"
        ],
        [
         "2",
         "894",
         "2",
         "1",
         "2.5535368330669788",
         "0",
         "0",
         "-0.4641004685259794",
         "1"
        ],
        [
         "3",
         "895",
         "3",
         "1",
         "-0.2048523475561909",
         "0",
         "0",
         "-0.48247515776279987",
         "2"
        ],
        [
         "4",
         "896",
         "3",
         "0",
         "-0.5989079447880722",
         "1",
         "1",
         "-0.41749150070575175",
         "2"
        ],
        [
         "5",
         "897",
         "3",
         "1",
         "-1.2293969003590823",
         "0",
         "0",
         "-0.4723914868401545",
         "2"
        ],
        [
         "6",
         "898",
         "3",
         "0",
         "0.031581010782937916",
         "0",
         "0",
         "-0.5009986371661234",
         "1"
        ],
        [
         "7",
         "899",
         "2",
         "1",
         "-0.28366346700256717",
         "1",
         "1",
         "-0.11789443351515412",
         "2"
        ],
        [
         "8",
         "900",
         "3",
         "0",
         "-0.9141524225735773",
         "0",
         "0",
         "-0.5081692476000046",
         "0"
        ],
        [
         "9",
         "901",
         "3",
         "1",
         "-0.6777190642344485",
         "2",
         "0",
         "-0.20483808502596335",
         "2"
        ],
        [
         "10",
         "902",
         "3",
         "1",
         "-0.2048523475561909",
         "0",
         "0",
         "-0.4962194253119416",
         "2"
        ],
        [
         "11",
         "903",
         "1",
         "1",
         "1.2925589219249582",
         "0",
         "0",
         "-0.1716740117692629",
         "2"
        ],
        [
         "12",
         "904",
         "1",
         "0",
         "-0.520096825341696",
         "1",
         "0",
         "0.8369924534808912",
         "2"
        ],
        [
         "13",
         "905",
         "2",
         "1",
         "2.632347952513355",
         "1",
         "0",
         "-0.1716740117692629",
         "2"
        ],
        [
         "14",
         "906",
         "1",
         "0",
         "1.3713700413713346",
         "1",
         "0",
         "0.4588915432601625",
         "2"
        ],
        [
         "15",
         "907",
         "2",
         "0",
         "-0.4412857058953197",
         "1",
         "0",
         "-0.1408260456827061",
         "0"
        ],
        [
         "16",
         "908",
         "2",
         "1",
         "0.4256366080148193",
         "0",
         "0",
         "-0.4163710928254578",
         "1"
        ],
        [
         "17",
         "909",
         "3",
         "1",
         "-0.6777190642344485",
         "0",
         "0",
         "-0.5082445390095603",
         "0"
        ],
        [
         "18",
         "910",
         "3",
         "0",
         "-0.2048523475561909",
         "1",
         "0",
         "-0.4956959707502683",
         "2"
        ],
        [
         "19",
         "911",
         "3",
         "0",
         "1.213747802478582",
         "0",
         "0",
         "-0.5082445390095603",
         "0"
        ],
        [
         "20",
         "912",
         "1",
         "1",
         "2.0018589969423446",
         "1",
         "0",
         "0.4270719594598148",
         "0"
        ],
        [
         "21",
         "913",
         "3",
         "1",
         "-1.6234524975909637",
         "0",
         "1",
         "-0.5809222610621629",
         "2"
        ],
        [
         "22",
         "914",
         "1",
         "0",
         "-0.2048523475561909",
         "0",
         "0",
         "-0.06979218607207077",
         "2"
        ],
        [
         "23",
         "915",
         "1",
         "1",
         "-0.6777190642344485",
         "0",
         "1",
         "0.46255213988665883",
         "0"
        ],
        [
         "24",
         "916",
         "1",
         "0",
         "1.4501811608177106",
         "1",
         "3",
         "4.065708591502392",
         "0"
        ],
        [
         "25",
         "917",
         "3",
         "1",
         "1.6078033997104633",
         "1",
         "0",
         "-0.3778290617433466",
         "2"
        ],
        [
         "26",
         "918",
         "1",
         "0",
         "-0.5989079447880722",
         "0",
         "1",
         "0.4733080555374806",
         "0"
        ],
        [
         "27",
         "919",
         "3",
         "1",
         "-0.5595023850648841",
         "0",
         "0",
         "-0.5082445390095603",
         "0"
        ],
        [
         "28",
         "920",
         "1",
         "1",
         "0.8985033246930769",
         "0",
         "0",
         "-0.09100464438809973",
         "2"
        ],
        [
         "29",
         "921",
         "3",
         "1",
         "-0.2048523475561909",
         "2",
         "0",
         "-0.24913094567604727",
         "0"
        ],
        [
         "30",
         "922",
         "2",
         "1",
         "1.6078033997104633",
         "1",
         "0",
         "-0.1716740117692629",
         "2"
        ],
        [
         "31",
         "923",
         "2",
         "1",
         "-0.4412857058953197",
         "2",
         "0",
         "-0.0730781183033968",
         "2"
        ],
        [
         "32",
         "924",
         "3",
         "0",
         "0.2680143691220667",
         "1",
         "2",
         "-0.26892541577877627",
         "2"
        ],
        [
         "33",
         "925",
         "3",
         "0",
         "-0.2048523475561909",
         "1",
         "2",
         "-0.2173866532852554",
         "2"
        ],
        [
         "34",
         "926",
         "1",
         "1",
         "0.031581010782937916",
         "1",
         "0",
         "0.397493191420055",
         "0"
        ],
        [
         "35",
         "927",
         "3",
         "1",
         "-0.8747468628503892",
         "0",
         "0",
         "-0.5081692476000046",
         "0"
        ],
        [
         "36",
         "928",
         "3",
         "0",
         "-0.2048523475561909",
         "0",
         "0",
         "-0.4934551549896804",
         "2"
        ],
        [
         "37",
         "929",
         "3",
         "0",
         "-0.6777190642344485",
         "0",
         "0",
         "-0.48247515776279987",
         "2"
        ],
        [
         "38",
         "930",
         "3",
         "1",
         "-0.3624745864489434",
         "0",
         "0",
         "-0.4674616921668612",
         "2"
        ],
        [
         "39",
         "931",
         "3",
         "1",
         "-0.2048523475561909",
         "0",
         "0",
         "0.37500974240462065",
         "2"
        ],
        [
         "40",
         "932",
         "3",
         "1",
         "0.7408810858003243",
         "0",
         "1",
         "-0.39724886745090526",
         "0"
        ],
        [
         "41",
         "933",
         "1",
         "1",
         "-0.2048523475561909",
         "0",
         "0",
         "-0.16181442242267627",
         "2"
        ],
        [
         "42",
         "934",
         "3",
         "1",
         "0.8985033246930769",
         "0",
         "0",
         "-0.497040460206621",
         "2"
        ],
        [
         "43",
         "935",
         "2",
         "0",
         "0.031581010782937916",
         "0",
         "0",
         "-0.40471885087040094",
         "2"
        ],
        [
         "44",
         "936",
         "1",
         "0",
         "1.213747802478582",
         "1",
         "0",
         "0.3043505471891556",
         "2"
        ],
        [
         "45",
         "937",
         "3",
         "1",
         "-0.3624745864489434",
         "0",
         "0",
         "-0.4956959707502683",
         "2"
        ],
        [
         "46",
         "938",
         "1",
         "1",
         "1.213747802478582",
         "0",
         "0",
         "-0.10534586525586208",
         "0"
        ],
        [
         "47",
         "939",
         "3",
         "1",
         "-0.2048523475561909",
         "0",
         "0",
         "-0.4988331128150913",
         "1"
        ],
        [
         "48",
         "940",
         "1",
         "0",
         "2.395914594174226",
         "0",
         "0",
         "0.7298814601247914",
         "0"
        ],
        [
         "49",
         "941",
         "3",
         "0",
         "0.5044477274611955",
         "0",
         "2",
         "-0.3527319252247625",
         "2"
        ]
       ],
       "shape": {
        "columns": 8,
        "rows": 418
       }
      },
      "text/html": [
       "<div>\n",
       "<style scoped>\n",
       "    .dataframe tbody tr th:only-of-type {\n",
       "        vertical-align: middle;\n",
       "    }\n",
       "\n",
       "    .dataframe tbody tr th {\n",
       "        vertical-align: top;\n",
       "    }\n",
       "\n",
       "    .dataframe thead th {\n",
       "        text-align: right;\n",
       "    }\n",
       "</style>\n",
       "<table border=\"1\" class=\"dataframe\">\n",
       "  <thead>\n",
       "    <tr style=\"text-align: right;\">\n",
       "      <th></th>\n",
       "      <th>PassengerId</th>\n",
       "      <th>Pclass</th>\n",
       "      <th>Sex</th>\n",
       "      <th>Age</th>\n",
       "      <th>SibSp</th>\n",
       "      <th>Parch</th>\n",
       "      <th>Fare</th>\n",
       "      <th>Embarked</th>\n",
       "    </tr>\n",
       "  </thead>\n",
       "  <tbody>\n",
       "    <tr>\n",
       "      <th>0</th>\n",
       "      <td>892</td>\n",
       "      <td>3</td>\n",
       "      <td>1</td>\n",
       "      <td>0.386231</td>\n",
       "      <td>0</td>\n",
       "      <td>0</td>\n",
       "      <td>-0.497413</td>\n",
       "      <td>1</td>\n",
       "    </tr>\n",
       "    <tr>\n",
       "      <th>1</th>\n",
       "      <td>893</td>\n",
       "      <td>3</td>\n",
       "      <td>0</td>\n",
       "      <td>1.371370</td>\n",
       "      <td>1</td>\n",
       "      <td>0</td>\n",
       "      <td>-0.512278</td>\n",
       "      <td>2</td>\n",
       "    </tr>\n",
       "    <tr>\n",
       "      <th>2</th>\n",
       "      <td>894</td>\n",
       "      <td>2</td>\n",
       "      <td>1</td>\n",
       "      <td>2.553537</td>\n",
       "      <td>0</td>\n",
       "      <td>0</td>\n",
       "      <td>-0.464100</td>\n",
       "      <td>1</td>\n",
       "    </tr>\n",
       "    <tr>\n",
       "      <th>3</th>\n",
       "      <td>895</td>\n",
       "      <td>3</td>\n",
       "      <td>1</td>\n",
       "      <td>-0.204852</td>\n",
       "      <td>0</td>\n",
       "      <td>0</td>\n",
       "      <td>-0.482475</td>\n",
       "      <td>2</td>\n",
       "    </tr>\n",
       "    <tr>\n",
       "      <th>4</th>\n",
       "      <td>896</td>\n",
       "      <td>3</td>\n",
       "      <td>0</td>\n",
       "      <td>-0.598908</td>\n",
       "      <td>1</td>\n",
       "      <td>1</td>\n",
       "      <td>-0.417492</td>\n",
       "      <td>2</td>\n",
       "    </tr>\n",
       "    <tr>\n",
       "      <th>...</th>\n",
       "      <td>...</td>\n",
       "      <td>...</td>\n",
       "      <td>...</td>\n",
       "      <td>...</td>\n",
       "      <td>...</td>\n",
       "      <td>...</td>\n",
       "      <td>...</td>\n",
       "      <td>...</td>\n",
       "    </tr>\n",
       "    <tr>\n",
       "      <th>413</th>\n",
       "      <td>1305</td>\n",
       "      <td>3</td>\n",
       "      <td>1</td>\n",
       "      <td>-0.204852</td>\n",
       "      <td>0</td>\n",
       "      <td>0</td>\n",
       "      <td>-0.493455</td>\n",
       "      <td>2</td>\n",
       "    </tr>\n",
       "    <tr>\n",
       "      <th>414</th>\n",
       "      <td>1306</td>\n",
       "      <td>1</td>\n",
       "      <td>0</td>\n",
       "      <td>0.740881</td>\n",
       "      <td>0</td>\n",
       "      <td>0</td>\n",
       "      <td>1.314435</td>\n",
       "      <td>0</td>\n",
       "    </tr>\n",
       "    <tr>\n",
       "      <th>415</th>\n",
       "      <td>1307</td>\n",
       "      <td>3</td>\n",
       "      <td>1</td>\n",
       "      <td>0.701476</td>\n",
       "      <td>0</td>\n",
       "      <td>0</td>\n",
       "      <td>-0.507796</td>\n",
       "      <td>2</td>\n",
       "    </tr>\n",
       "    <tr>\n",
       "      <th>416</th>\n",
       "      <td>1308</td>\n",
       "      <td>3</td>\n",
       "      <td>1</td>\n",
       "      <td>-0.204852</td>\n",
       "      <td>0</td>\n",
       "      <td>0</td>\n",
       "      <td>-0.493455</td>\n",
       "      <td>2</td>\n",
       "    </tr>\n",
       "    <tr>\n",
       "      <th>417</th>\n",
       "      <td>1309</td>\n",
       "      <td>3</td>\n",
       "      <td>1</td>\n",
       "      <td>-0.204852</td>\n",
       "      <td>1</td>\n",
       "      <td>1</td>\n",
       "      <td>-0.236957</td>\n",
       "      <td>0</td>\n",
       "    </tr>\n",
       "  </tbody>\n",
       "</table>\n",
       "<p>418 rows × 8 columns</p>\n",
       "</div>"
      ],
      "text/plain": [
       "     PassengerId  Pclass  Sex       Age  SibSp  Parch      Fare  Embarked\n",
       "0            892       3    1  0.386231      0      0 -0.497413         1\n",
       "1            893       3    0  1.371370      1      0 -0.512278         2\n",
       "2            894       2    1  2.553537      0      0 -0.464100         1\n",
       "3            895       3    1 -0.204852      0      0 -0.482475         2\n",
       "4            896       3    0 -0.598908      1      1 -0.417492         2\n",
       "..           ...     ...  ...       ...    ...    ...       ...       ...\n",
       "413         1305       3    1 -0.204852      0      0 -0.493455         2\n",
       "414         1306       1    0  0.740881      0      0  1.314435         0\n",
       "415         1307       3    1  0.701476      0      0 -0.507796         2\n",
       "416         1308       3    1 -0.204852      0      0 -0.493455         2\n",
       "417         1309       3    1 -0.204852      1      1 -0.236957         0\n",
       "\n",
       "[418 rows x 8 columns]"
      ]
     },
     "execution_count": 19,
     "metadata": {},
     "output_type": "execute_result"
    }
   ],
   "source": [
    "testing_data"
   ]
  },
  {
   "cell_type": "code",
   "execution_count": 20,
   "id": "ae62fcb1",
   "metadata": {},
   "outputs": [
    {
     "data": {
      "text/plain": [
       "(418, 7)"
      ]
     },
     "execution_count": 20,
     "metadata": {},
     "output_type": "execute_result"
    }
   ],
   "source": [
    "test = testing_data.drop(labels=['PassengerId'], axis=1)\n",
    "test.shape"
   ]
  },
  {
   "cell_type": "code",
   "execution_count": 25,
   "id": "e52e6769",
   "metadata": {},
   "outputs": [],
   "source": [
    "submission_df = pd.DataFrame(columns=['PassengerId','Survived'])\n",
    "submission_df['PassengerId'] = testing_data['PassengerId']\n",
    "preds = voting_clf.predict(test)\n",
    "submission_df['Survived'] = preds\n",
    "submission_df.to_csv('submissions.csv', header=True, index=False )"
   ]
  },
  {
   "cell_type": "code",
   "execution_count": null,
   "id": "90dbf686",
   "metadata": {},
   "outputs": [],
   "source": []
  }
 ],
 "metadata": {
  "kernelspec": {
   "display_name": "Python (base)",
   "language": "python",
   "name": "base"
  },
  "language_info": {
   "codemirror_mode": {
    "name": "ipython",
    "version": 3
   },
   "file_extension": ".py",
   "mimetype": "text/x-python",
   "name": "python",
   "nbconvert_exporter": "python",
   "pygments_lexer": "ipython3",
   "version": "3.12.7"
  }
 },
 "nbformat": 4,
 "nbformat_minor": 5
}
